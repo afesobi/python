{
 "cells": [
  {
   "cell_type": "markdown",
   "metadata": {
    "id": "QmzeljDgm4Ll"
   },
   "source": [
    "# Assignment #2: Efficacy Analysis of a Hypothetical Arthritis Drug\n",
    "\n",
    "**Objective**: In this assignment, your task is to utilize Python programming skills to evaluate the effectiveness of a fictional medication designed to reduce inflammation caused by arthritis flare-ups.\n",
    "\n",
    "**Background**: Imagine a clinical trial where 60 patients were administered a new drug for arthritis. Data from this trial has been recorded in a series of CSV files. Evaluate the effectiveness of a fictional medication designed to reduce inflammation caused by arthritis flare-ups.\n",
    "\n",
    "**Data Structure**:\n",
    "- Each CSV file corresponds to a specific check-in session with the patients.\n",
    "- There are 12 such CSV files, reflecting 12 different sessions where patients reported their experiences.\n",
    "- Inside each file:\n",
    "  - Rows: Each of the 60 rows represents a unique patient.\n",
    "  - Columns: Each of the 40 columns corresponds to a day, detailing the number of inflammation flare-ups the patient experienced on that day.\n",
    "\n",
    "**Your Role**: Analyze this data to determine how effective the new drug has been in managing arthritis inflammation across the trial period."
   ]
  },
  {
   "cell_type": "code",
   "execution_count": null,
   "metadata": {
    "id": "read_csv"
   },
   "outputs": [],
   "source": [
    "import numpy as np\n",
    "import pandas as pd\n",
    "\n",
    "# Define the file paths for uploaded data\n",
    "all_paths = [\n",
    "  \"/mnt/data/inflammation_01.csv\",\n",
    "  \"/mnt/data/inflammation_02.csv\",\n",
    "  \"/mnt/data/inflammation_03.csv\",\n",
    "  \"/mnt/data/inflammation_04.csv\"\n",
    "]\n",
    "\n",
    "# Question 1: Read and display the contents of the first file\n",
    "def read_csv_file(file_path):\n",
    "    \"\"\"Reads a CSV file and prints its contents row by row.\"\"\"\n",
    "    try:\n",
    "        with open(file_path, 'r', encoding='utf-8') as f:\n",
    "            data = f.readlines()  # Read all lines into a list\n",
    "            \n",
    "            # Iterate through each row and print it for inspection\n",
    "            for i, row in enumerate(data):\n",
    "                print(f\"Row {i+1}: {row.strip()}\")\n",
    "        return data\n",
    "    except Exception as e:\n",
    "        print(f\"Error reading file {file_path}: {e}\")\n",
    "        return []\n",
    "\n",
    "# Display the first file\n",
    "data = read_csv_file(all_paths[0])"
   ]
  },
  {
   "cell_type": "code",
   "execution_count": null,
   "metadata": {
    "id": "summary_function"
   },
   "outputs": [],
   "source": [
    "# Question 2: Compute summary statistics for each patient\n",
    "def patient_summary(file_path, operation):\n",
    "    \"\"\"\n",
    "    Computes the mean, max, or min inflammation for each patient.\n",
    "    :param file_path: Path to the CSV file\n",
    "    :param operation: Summary operation ('mean', 'max', 'min')\n",
    "    :return: Array of 60 values corresponding to each patient's summary\n",
    "    \"\"\"\n",
    "    try:\n",
    "        data = np.loadtxt(fname=file_path, delimiter=',')\n",
    "        if operation == 'mean':\n",
    "            return np.mean(data, axis=1)\n",
    "        elif operation == 'max':\n",
    "            return np.max(data, axis=1)\n",
    "        elif operation == 'min':\n",
    "            return np.min(data, axis=1)\n",
    "        else:\n",
    "            raise ValueError(\"Invalid operation. Choose 'mean', 'max', or 'min'.\")\n",
    "    except Exception as e:\n",
    "        print(f\"Error processing file {file_path}: {e}\")\n",
    "        return None\n",
    "\n",
    "# Test patient_summary function\n",
    "data_min = patient_summary(all_paths[0], 'min')\n",
    "print(len(data_min))  # Should print 60"
   ]
  },
  {
   "cell_type": "code",
   "execution_count": null,
   "metadata": {
    "id": "detect_problems"
   },
   "outputs": [],
   "source": [
    "# Question 3: Detect patients with a mean inflammation score of 0\n",
    "def check_zeros(x):\n",
    "    \"\"\"\n",
    "    Checks if any value in x is zero.\n",
    "    :param x: NumPy array\n",
    "    :return: True if any values are zero, else False\n",
    "    \"\"\"\n",
    "    return np.any(x == 0)\n",
    "\n",
    "def detect_problems(file_path):\n",
    "    \"\"\"\n",
    "    Identifies patients with a mean inflammation score of 0.\n",
    "    :param file_path: Path to the CSV file\n",
    "    :return: True if at least one patient has a mean score of 0, else False\n",
    "    \"\"\"\n",
    "    means = patient_summary(file_path, 'mean')\n",
    "    return check_zeros(means)\n",
    "\n",
    "# Test detect_problems function\n",
    "print(detect_problems(all_paths[0]))  # Expected output: False"
   ]
  }
 ],
 "metadata": {
  "kernelspec": {
   "display_name": "Python 3",
   "name": "python3"
  },
  "language_info": {
   "name": "python",
   "version": "3.11.8"
  }
 },
 "nbformat": 4,
 "nbformat_minor": 0
}
